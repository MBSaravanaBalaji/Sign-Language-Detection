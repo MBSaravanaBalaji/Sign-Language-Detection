{
 "cells": [
  {
   "cell_type": "markdown",
   "id": "dafbd65f",
   "metadata": {},
   "source": [
    "1. IMPORT"
   ]
  },
  {
   "cell_type": "code",
   "execution_count": null,
   "id": "21a245fe",
   "metadata": {
    "vscode": {
     "languageId": "plaintext"
    }
   },
   "outputs": [],
   "source": [
    "2. KEY POINTS USING MEDIA PIPE"
   ]
  },
  {
   "cell_type": "markdown",
   "id": "569d02a6",
   "metadata": {},
   "source": [
    "3. EXTRACT KEY POINTS"
   ]
  },
  {
   "cell_type": "markdown",
   "id": "cbbeca42",
   "metadata": {},
   "source": [
    "4. SET UP FOLDERS FOR COLECTION"
   ]
  },
  {
   "cell_type": "markdown",
   "id": "81a3c926",
   "metadata": {},
   "source": [
    "5. COLLECT KEY POINTS FOR TRININGS AND TESTING"
   ]
  },
  {
   "cell_type": "markdown",
   "id": "a79ac98b",
   "metadata": {},
   "source": [
    "6. PREPROCESS DATA"
   ]
  },
  {
   "cell_type": "markdown",
   "id": "75aa22f8",
   "metadata": {},
   "source": [
    "7. BUILD AND TRAIN LSTM NEURAL NET"
   ]
  },
  {
   "cell_type": "markdown",
   "id": "ad622edd",
   "metadata": {},
   "source": [
    "8. MAKE PREDICITIONS "
   ]
  },
  {
   "cell_type": "markdown",
   "id": "b9b38253",
   "metadata": {},
   "source": [
    "9. SAVE WEIGHTS"
   ]
  },
  {
   "cell_type": "markdown",
   "id": "ba0da249",
   "metadata": {},
   "source": [
    "10. EVAL USING CONFUSION MATRIX AND ACCURACY"
   ]
  },
  {
   "cell_type": "markdown",
   "id": "871f868f",
   "metadata": {},
   "source": [
    "11. TEST"
   ]
  }
 ],
 "metadata": {
  "language_info": {
   "name": "python"
  }
 },
 "nbformat": 4,
 "nbformat_minor": 5
}
