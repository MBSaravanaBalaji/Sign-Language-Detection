{
 "cells": [
  {
   "cell_type": "markdown",
   "id": "dafbd65f",
   "metadata": {},
   "source": [
    "1. IMPORT"
   ]
  },
  {
   "cell_type": "code",
   "execution_count": null,
   "id": "26c29a15",
   "metadata": {},
   "outputs": [],
   "source": [
    "import  cv2 \n",
    "import numpy as np\n",
    "import os\n",
    "from matplotlib import pyplot as plt\n",
    "import time\n",
    "import mediapipe as mp"
   ]
  },
  {
   "cell_type": "markdown",
   "id": "498bdf5d",
   "metadata": {},
   "source": [
    "2. KEYPOINTS USING MP"
   ]
  },
  {
   "cell_type": "code",
   "execution_count": null,
   "id": "dafea094",
   "metadata": {},
   "outputs": [
    {
     "name": "stderr",
     "output_type": "stream",
     "text": [
      "2025-05-13 16:06:08.028 Python[35871:3176093] WARNING: AVCaptureDeviceTypeExternal is deprecated for Continuity Cameras. Please use AVCaptureDeviceTypeContinuityCamera and add NSCameraUseContinuityCameraDeviceType to your Info.plist.\n",
      "2025-05-13 16:06:09.669 Python[35871:3176093] +[IMKClient subclass]: chose IMKClient_Legacy\n",
      "2025-05-13 16:06:09.669 Python[35871:3176093] +[IMKInputSession subclass]: chose IMKInputSession_Legacy\n"
     ]
    }
   ],
   "source": [
    "cap = cv2.VideoCapture(0)\n",
    "while cap.isOpened():\n",
    "\n",
    "    #read the feed\n",
    "    ret, frame = cap.read()\n",
    "    # show to screen\n",
    "    cv2.imshow('OpenCV feed', frame)\n",
    "    # break the loop properly \n",
    "    if cv2.waitKey(10) & 0xFF == ord('q'):\n",
    "        break\n",
    "cap.release()\n",
    "cv2.destroyAllWindows()"
   ]
  },
  {
   "cell_type": "markdown",
   "id": "569d02a6",
   "metadata": {},
   "source": [
    "3. EXTRACT KEY POINTS"
   ]
  },
  {
   "cell_type": "markdown",
   "id": "77823332",
   "metadata": {},
   "source": []
  },
  {
   "cell_type": "code",
   "execution_count": null,
   "id": "ac13cdc3",
   "metadata": {},
   "outputs": [],
   "source": []
  },
  {
   "cell_type": "markdown",
   "id": "cbbeca42",
   "metadata": {},
   "source": [
    "4. SET UP FOLDERS FOR COLECTION"
   ]
  },
  {
   "cell_type": "markdown",
   "id": "81a3c926",
   "metadata": {},
   "source": [
    "5. COLLECT KEY POINTS FOR TRININGS AND TESTING"
   ]
  },
  {
   "cell_type": "markdown",
   "id": "a79ac98b",
   "metadata": {},
   "source": [
    "6. PREPROCESS DATA"
   ]
  },
  {
   "cell_type": "markdown",
   "id": "75aa22f8",
   "metadata": {},
   "source": [
    "7. BUILD AND TRAIN LSTM NEURAL NET"
   ]
  },
  {
   "cell_type": "markdown",
   "id": "ad622edd",
   "metadata": {},
   "source": [
    "8. MAKE PREDICITIONS "
   ]
  },
  {
   "cell_type": "markdown",
   "id": "b9b38253",
   "metadata": {},
   "source": [
    "9. SAVE WEIGHTS"
   ]
  },
  {
   "cell_type": "markdown",
   "id": "ba0da249",
   "metadata": {},
   "source": [
    "10. EVAL USING CONFUSION MATRIX AND ACCURACY"
   ]
  },
  {
   "cell_type": "markdown",
   "id": "871f868f",
   "metadata": {},
   "source": [
    "11. TEST"
   ]
  }
 ],
 "metadata": {
  "kernelspec": {
   "display_name": ".venv",
   "language": "python",
   "name": "python3"
  },
  "language_info": {
   "codemirror_mode": {
    "name": "ipython",
    "version": 3
   },
   "file_extension": ".py",
   "mimetype": "text/x-python",
   "name": "python",
   "nbconvert_exporter": "python",
   "pygments_lexer": "ipython3",
   "version": "3.12.3"
  }
 },
 "nbformat": 4,
 "nbformat_minor": 5
}
